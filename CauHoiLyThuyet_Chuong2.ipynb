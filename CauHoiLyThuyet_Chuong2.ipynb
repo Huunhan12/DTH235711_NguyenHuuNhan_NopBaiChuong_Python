{
 "cells": [
  {
   "cell_type": "code",
   "execution_count": 7,
   "id": "82fd224c",
   "metadata": {},
   "outputs": [
    {
     "data": {
      "text/plain": [
       "'\\nCâu 4: Python hỗ trợ những kiểu dữ liệu cơ bản nào?\\nTrả lời: \\n- Python có các kiểu dữ liệu cơ bản như : số nguyên (int), số thực (float), kiểu logic (boolean) và chuổi ký tự (string).\\n'"
      ]
     },
     "execution_count": 7,
     "metadata": {},
     "output_type": "execute_result"
    }
   ],
   "source": [
    "'''\n",
    "Câu 4: Python hỗ trợ những kiểu dữ liệu cơ bản nào?\n",
    "Trả lời: \n",
    "- Python có các kiểu dữ liệu cơ bản như : số nguyên (int), số thực (float), kiểu logic (boolean) và chuổi ký tự (string).\n",
    "'''"
   ]
  },
  {
   "cell_type": "code",
   "execution_count": null,
   "id": "8af27283",
   "metadata": {},
   "outputs": [
    {
     "ename": "SyntaxError",
     "evalue": "invalid syntax (3319241668.py, line 5)",
     "output_type": "error",
     "traceback": [
      "  \u001b[36mCell\u001b[39m\u001b[36m \u001b[39m\u001b[32mIn[8]\u001b[39m\u001b[32m, line 5\u001b[39m\n\u001b[31m    \u001b[39m\u001b[31m- Ghi chú nhiều dòng (dùng nhiều # hoặc chuỗi nhiều dòng ''' ... ''')\u001b[39m\n                                                                 ^\n\u001b[31mSyntaxError\u001b[39m\u001b[31m:\u001b[39m invalid syntax\n"
     ]
    }
   ],
   "source": [
    "'''\n",
    "Câu 5: Trình bày các loại ghi chú trong Python.\n",
    "Trả lời: \n",
    "- Ghi chú một dòng (# ...)\n",
    "- Ghi chú nhiều dòng (dùng nhiều # hoặc chuỗi nhiều dòng ''' ... ''')\n",
    "- Docstring (chuỗi mô tả cho hàm, lớp, module).\n",
    "'''"
   ]
  },
  {
   "cell_type": "code",
   "execution_count": null,
   "id": "7f8c014a",
   "metadata": {},
   "outputs": [
    {
     "data": {
      "text/plain": [
       "'\\nCâu 6: Trình bày ý nghĩa toán tử /, //, %, **, and, or, is.\\nTrả lời:\\n- / : chia thực\\n- // : chia nguyên (làm tròn xuống)\\n- % : lấy dư\\n- ** : lũy thừa\\n- and : logic AND\\n- or : logic OR\\n- is : so sánh định danh (cùng đối tượng hay không)\\n'"
      ]
     },
     "execution_count": 3,
     "metadata": {},
     "output_type": "execute_result"
    }
   ],
   "source": [
    "'''\n",
    "Câu 6: Trình bày ý nghĩa toán tử /, //, %, **, and, or, is.\n",
    "Trả lời:\n",
    "- / : chia thực\n",
    "- // : chia nguyên (làm tròn xuống)\n",
    "- % : lấy dư\n",
    "- ** : lũy thừa\n",
    "- and : logic AND\n",
    "- or : logic OR\n",
    "- is : so sánh định danh (cùng đối tượng hay không)\n",
    "'''"
   ]
  },
  {
   "cell_type": "code",
   "execution_count": null,
   "id": "4f7adec7",
   "metadata": {},
   "outputs": [
    {
     "data": {
      "text/plain": [
       "'\\nCâu 7: Trình bày một số cách nhập dữ liệu từ bàn phím.\\nTrả lời:\\ninput() → nhập dữ liệu (chuỗi mặc định).\\nint() / float() + input() – nhập số (ép kiểu).\\nsplit() + map() → nhập nhiều giá trị và ép kiểu.\\nsys.stdin.readline() → nhập nhanh khi xử lý dữ liệu lớn.\\n'"
      ]
     },
     "execution_count": 4,
     "metadata": {},
     "output_type": "execute_result"
    }
   ],
   "source": [
    "'''\n",
    "Câu 7: Trình bày một số cách nhập dữ liệu từ bàn phím.\n",
    "Trả lời:\n",
    "input() → nhập dữ liệu (chuỗi mặc định).\n",
    "int() / float() + input() – nhập số (ép kiểu).\n",
    "split() + map() → nhập nhiều giá trị và ép kiểu.\n",
    "sys.stdin.readline() → nhập nhanh khi xử lý dữ liệu lớn.\n",
    "'''"
   ]
  },
  {
   "cell_type": "code",
   "execution_count": null,
   "id": "cdefac9f",
   "metadata": {},
   "outputs": [],
   "source": [
    "'''\n",
    "Câu 8: Trình bày các loại lỗi khi lập trình và cách bắt lỗi trong Python.\n",
    "Trả lời:\n",
    "Các loại lỗi trong Python\n",
    "1.\tLỗi cú pháp (SyntaxError) → viết sai cú pháp, chương trình không chạy được.\n",
    "2.\tLỗi logic → chạy được nhưng kết quả sai do sai thuật toán/công thức.\n",
    "3.\tLỗi khi chạy (Runtime Error / Exception) → xảy ra trong quá trình chạy (chia cho 0, nhập sai kiểu, truy cập ngoài phạm vi…).\n",
    "Cách bắt lỗi\n",
    "•\tDùng try - except để xử lý ngoại lệ.\n",
    "•\tCó thể kết hợp else (chạy khi không có lỗi) và finally (luôn chạy).\n",
    "'''"
   ]
  },
  {
   "cell_type": "code",
   "execution_count": 9,
   "id": "a4d3224c",
   "metadata": {},
   "outputs": [
    {
     "data": {
      "text/plain": [
       "'\\nCâu 9: Giải thích kết quả tính toán của các biểu thức\\nTrả lời:\\nCác biểu thức với số nguyên\\n(a) i1 + (i2 * i3) = 2 + (5 * -3) = 2 - 15 = -13\\n(b) i1 * (i2 + i3) = 2 * (5 + -3) = 2 * 2 = 4\\n(c) i1 / (i2 + i3) = 2 / (5 + -3) = 2 / 2 = 1.0 (chia trả về float)\\n(d) i1 // (i2 + i3) = 2 // (5 + -3) = 2 // 2 = 1 (chia lấy phần nguyên)\\n(e) i1 / i2 + i3 = 2 / 5 + (-3) = 0.4 - 3 = -2.6\\n(f) i1 // i2 + i3 = 2 // 5 + (-3) = 0 + -3 = -3\\n(g) 3 + 4 + 5 / 3 = 3 + 4 + (5 / 3) = 7 + 1.666... = 8.666...\\n(h) (3 + 4 + 5) / 3 = (12) / 3 = 4.0\\n(i) (3 + 4 + 5) // 3 = 12 // 3 = 4\\nCác biểu thức với số thực\\n(k) d1 + (d2 * d3) = 2.0 + (5.0 * -0.5) = 2.0 - 2.5 = -0.5\\n(l) d1 + d2 * d3 = 2.0 + 5.0 * -0.5 = 2.0 - 2.5 = -0.5 (giống k)\\n(m) d1 / d2 - d3 = (2.0 / 5.0) - (-0.5) = 0.4 + 0.5 = 0.9\\n(n) d1 / (d2 - d3) = 2.0 / (5.0 - -0.5) = 2.0 / 5.5 ≈ 0.3636\\n(o) d1 + d2 + d3 / 3 = 2.0 + 5.0 + (-0.5 / 3) = 7.0 - 0.166... = 6.833...\\n(p) (d1 + d2 + d3) / 3 = (2.0 + 5.0 + -0.5) / 3 = 6.5 / 3 ≈ 2.166...\\n(q) (d1 + d2 + d3) // 3 = (2.0 + 5.0 - 0.5) // 3 = 6.5 // 3 = 2.0\\n(r) 3 * (d1 + d2) * (d1 - d3) = 3 * (2.0 + 5.0) * (2.0 - -0.5) = 3 * 7.0 * 2.5 = 21 * 2.5 = 52.5\\n'"
      ]
     },
     "execution_count": 9,
     "metadata": {},
     "output_type": "execute_result"
    }
   ],
   "source": [
    "'''\n",
    "Câu 9: Giải thích kết quả tính toán của các biểu thức\n",
    "Trả lời:\n",
    "Các biểu thức với số nguyên\n",
    "(a) i1 + (i2 * i3) = 2 + (5 * -3) = 2 - 15 = -13\n",
    "(b) i1 * (i2 + i3) = 2 * (5 + -3) = 2 * 2 = 4\n",
    "(c) i1 / (i2 + i3) = 2 / (5 + -3) = 2 / 2 = 1.0 (chia trả về float)\n",
    "(d) i1 // (i2 + i3) = 2 // (5 + -3) = 2 // 2 = 1 (chia lấy phần nguyên)\n",
    "(e) i1 / i2 + i3 = 2 / 5 + (-3) = 0.4 - 3 = -2.6\n",
    "(f) i1 // i2 + i3 = 2 // 5 + (-3) = 0 + -3 = -3\n",
    "(g) 3 + 4 + 5 / 3 = 3 + 4 + (5 / 3) = 7 + 1.666... = 8.666...\n",
    "(h) (3 + 4 + 5) / 3 = (12) / 3 = 4.0\n",
    "(i) (3 + 4 + 5) // 3 = 12 // 3 = 4\n",
    "Các biểu thức với số thực\n",
    "(k) d1 + (d2 * d3) = 2.0 + (5.0 * -0.5) = 2.0 - 2.5 = -0.5\n",
    "(l) d1 + d2 * d3 = 2.0 + 5.0 * -0.5 = 2.0 - 2.5 = -0.5 (giống k)\n",
    "(m) d1 / d2 - d3 = (2.0 / 5.0) - (-0.5) = 0.4 + 0.5 = 0.9\n",
    "(n) d1 / (d2 - d3) = 2.0 / (5.0 - -0.5) = 2.0 / 5.5 ≈ 0.3636\n",
    "(o) d1 + d2 + d3 / 3 = 2.0 + 5.0 + (-0.5 / 3) = 7.0 - 0.166... = 6.833...\n",
    "(p) (d1 + d2 + d3) / 3 = (2.0 + 5.0 + -0.5) / 3 = 6.5 / 3 ≈ 2.166...\n",
    "(q) (d1 + d2 + d3) // 3 = (2.0 + 5.0 - 0.5) // 3 = 6.5 // 3 = 2.0\n",
    "(r) 3 * (d1 + d2) * (d1 - d3) = 3 * (2.0 + 5.0) * (2.0 - -0.5) = 3 * 7.0 * 2.5 = 21 * 2.5 = 52.5\n",
    "'''\n"
   ]
  },
  {
   "cell_type": "code",
   "execution_count": 10,
   "id": "56a1021e",
   "metadata": {},
   "outputs": [
    {
     "data": {
      "text/plain": [
       "'\\nCâu 10: Hãy viết ngắn gọn lại các lệnh dưới đây\\nTrả lời:\\n(a) x = x + 1 \\nx += 1\\n(b) x = x / 2 \\nx /= 2\\n(c) x = x – 1 \\nx -= 1\\n(d) x = x + y \\nx += y\\n(e) x = x - (y + 7)\\nx -= (y + 7)\\n(f) x = 2*x \\nx *= 2\\n(g) number_of_closed_cases = number_of_closed_cases + 2*ncc\\nnumber_of_closed_cases += 2 * ncc\\n'"
      ]
     },
     "execution_count": 10,
     "metadata": {},
     "output_type": "execute_result"
    }
   ],
   "source": [
    "'''\n",
    "Câu 10: Hãy viết ngắn gọn lại các lệnh dưới đây\n",
    "Trả lời:\n",
    "(a) x = x + 1 \n",
    "x += 1\n",
    "(b) x = x / 2 \n",
    "x /= 2\n",
    "(c) x = x – 1 \n",
    "x -= 1\n",
    "(d) x = x + y \n",
    "x += y\n",
    "(e) x = x - (y + 7)\n",
    "x -= (y + 7)\n",
    "(f) x = 2*x \n",
    "x *= 2\n",
    "(g) number_of_closed_cases = number_of_closed_cases + 2*ncc\n",
    "number_of_closed_cases += 2 * ncc\n",
    "'''"
   ]
  }
 ],
 "metadata": {
  "kernelspec": {
   "display_name": "Python 3",
   "language": "python",
   "name": "python3"
  },
  "language_info": {
   "codemirror_mode": {
    "name": "ipython",
    "version": 3
   },
   "file_extension": ".py",
   "mimetype": "text/x-python",
   "name": "python",
   "nbconvert_exporter": "python",
   "pygments_lexer": "ipython3",
   "version": "3.13.7"
  }
 },
 "nbformat": 4,
 "nbformat_minor": 5
}
